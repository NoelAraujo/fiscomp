{
 "cells": [
  {
   "cell_type": "code",
   "execution_count": 1,
   "id": "81c467a8",
   "metadata": {},
   "outputs": [
    {
     "name": "stderr",
     "output_type": "stream",
     "text": [
      "┌ Info: Precompiling CairoMakie [13f3f980-e62b-5c42-98c6-ff1f3baf88f0]\n",
      "└ @ Base loading.jl:1662\n"
     ]
    },
    {
     "name": "stderr",
     "output_type": "stream",
     "text": [
      "\u001b[91m\u001b[1mERROR: \u001b[22m\u001b[39mLoadError: "
     ]
    },
    {
     "name": "stderr",
     "output_type": "stream",
     "text": [
      "MethodError: no method matching get_attribute(::"
     ]
    },
    {
     "name": "stderr",
     "output_type": "stream",
     "text": [
      "MakieCore.Lines{Tuple{Vector{GeometryBasics.Point{2, Float32}}}}, ::Symbol, ::ColorTypes.RGBA{Float32})\n",
      "\u001b[0mClosest candidates are:\n",
      "\u001b[0m  get_attribute(::Any, ::Any) at ~/.julia/packages/MakieCore/8YGMv/src/attributes.jl:241\n",
      "Stacktrace:\n",
      "  [1] \u001b[0m\u001b[1mnumbers_to_colors\u001b[22m\u001b[0m\u001b[1m(\u001b[22m\u001b[90mnumbers\u001b[39m::\u001b[0mVector\u001b[90m{Float32}\u001b[39m, \u001b[90mprimitive\u001b[39m::\u001b[0mMakieCore.Lines\u001b[90m{Tuple{Vector{GeometryBasics.Point{2, Float32}}}}\u001b[39m\u001b[0m\u001b[1m)\u001b[22m\n",
      "\u001b[90m    @ \u001b[39m\u001b[35mMakie\u001b[39m \u001b[90m~/.julia/packages/Makie/Ppzqh/src/\u001b[39m\u001b[90m\u001b[4mcolorsampler.jl:152\u001b[24m\u001b[39m\n",
      "  [2] \u001b[0m\u001b[1mdraw_atomic\u001b[22m\u001b[0m\u001b[1m(\u001b[22m\u001b[90mscene\u001b[39m::\u001b[0mMakie.Scene, \u001b[90mscreen\u001b[39m::\u001b[0mCairoMakie.CairoScreen\u001b[90m{Cairo.CairoSurfaceBase{UInt32}}\u001b[39m, \u001b[90mprimitive\u001b[39m::\u001b[0mUnion\u001b[90m{MakieCore.LineSegments, MakieCore.Lines}\u001b[39m\u001b[0m\u001b[1m)\u001b[22m\n",
      "\u001b[90m    @ \u001b[39m\u001b[36mCairoMakie\u001b[39m \u001b[90m~/.julia/packages/CairoMakie/keP4X/src/\u001b[39m\u001b[90m\u001b[4mprimitives.jl:34\u001b[24m\u001b[39m\n",
      "  [3] \u001b[0m\u001b[1mdraw_plot\u001b[22m\u001b[0m\u001b[1m(\u001b[22m\u001b[90mscene\u001b[39m::\u001b[0mMakie.Scene, \u001b[90mscreen\u001b[39m::\u001b[0mCairoMakie.CairoScreen\u001b[90m{Cairo.CairoSurfaceBase{UInt32}}\u001b[39m, \u001b[90mprimitive\u001b[39m::\u001b[0mMakieCore.Lines\u001b[90m{Tuple{Vector{GeometryBasics.Point{2, Float32}}}}\u001b[39m\u001b[0m\u001b[1m)\u001b[22m\n",
      "\u001b[90m    @ \u001b[39m\u001b[36mCairoMakie\u001b[39m \u001b[90m~/.julia/packages/CairoMakie/keP4X/src/\u001b[39m\u001b[90m\u001b[4minfrastructure.jl:251\u001b[24m\u001b[39m\n",
      "  [4] \u001b[0m\u001b[1mcairo_draw\u001b[22m\u001b[0m\u001b[1m(\u001b[22m\u001b[90mscreen\u001b[39m::\u001b[0mCairoMakie.CairoScreen\u001b[90m{Cairo.CairoSurfaceBase{UInt32}}\u001b[39m, \u001b[90mscene\u001b[39m::\u001b[0mMakie.Scene\u001b[0m\u001b[1m)\u001b[22m\n",
      "\u001b[90m    @ \u001b[39m\u001b[36mCairoMakie\u001b[39m \u001b[90m~/.julia/packages/CairoMakie/keP4X/src/\u001b[39m\u001b[90m\u001b[4minfrastructure.jl:192\u001b[24m\u001b[39m\n",
      "  [5] \u001b[0m\u001b[1mbackend_show\u001b[22m\u001b[0m\u001b[1m(\u001b[22m\u001b[90mx\u001b[39m::\u001b[0mCairoMakie.CairoBackend, \u001b[90mio\u001b[39m::\u001b[0mIOStream, \u001b[90m#unused#\u001b[39m::\u001b[0mMIME\u001b[90m{Symbol(\"image/png\")}\u001b[39m, \u001b[90mscene\u001b[39m::\u001b[0mMakie.Scene\u001b[0m\u001b[1m)\u001b[22m\n",
      "\u001b[90m    @ \u001b[39m\u001b[36mCairoMakie\u001b[39m \u001b[90m~/.julia/packages/CairoMakie/keP4X/src/\u001b[39m\u001b[90m\u001b[4minfrastructure.jl:396\u001b[24m\u001b[39m\n",
      "  [6] \u001b[0m\u001b[1m(::CairoMakie.var\"#7#8\"{CairoMakie.CairoBackend, Makie.Scene})\u001b[22m\u001b[0m\u001b[1m(\u001b[22m\u001b[90mio\u001b[39m::\u001b[0mIOStream\u001b[0m\u001b[1m)\u001b[22m\n",
      "\u001b[90m    @ \u001b[39m\u001b[36mCairoMakie\u001b[39m \u001b[90m~/.julia/packages/CairoMakie/keP4X/src/\u001b[39m\u001b[90m\u001b[4minfrastructure.jl:316\u001b[24m\u001b[39m\n",
      "  [7] \u001b[0m\u001b[1mopen\u001b[22m\u001b[0m\u001b[1m(\u001b[22m::\u001b[0mCairoMakie.var\"#7#8\"\u001b[90m{CairoMakie.CairoBackend, Makie.Scene}\u001b[39m, ::\u001b[0mString, ::"
     ]
    },
    {
     "name": "stderr",
     "output_type": "stream",
     "text": [
      "\u001b[0mVararg\u001b[90m{String}\u001b[39m; \u001b[90mkwargs\u001b[39m::\u001b[0mBase.Pairs\u001b[90m{Symbol, Union{}, Tuple{}, NamedTuple{(), Tuple{}}}\u001b[39m\u001b[0m\u001b[1m)\u001b[22m\n",
      "\u001b[90m    @ \u001b[39m\u001b[90mBase\u001b[39m \u001b[90m./\u001b[39m\u001b[90m\u001b[4mio.jl:384\u001b[24m\u001b[39m\n",
      "  [8] \u001b[0m\u001b[1mopen\u001b[22m\n",
      "\u001b[90m    @ \u001b[39m\u001b[90m./\u001b[39m\u001b[90m\u001b[4mio.jl:381\u001b[24m\u001b[39m\u001b[90m [inlined]\u001b[39m\n",
      "  [9] \u001b[0m\u001b[1m#backend_display#6\u001b[22m\n",
      "\u001b[90m    @ \u001b[39m\u001b[90m~/.julia/packages/CairoMakie/keP4X/src/\u001b[39m\u001b[90m\u001b[4minfrastructure.jl:315\u001b[24m\u001b[39m\u001b[90m [inlined]\u001b[39m\n",
      " [10] \u001b[0m\u001b[1mbackend_display\u001b[22m\n",
      "\u001b[90m    @ \u001b[39m\u001b[90m~/.julia/packages/CairoMakie/keP4X/src/\u001b[39m\u001b[90m\u001b[4minfrastructure.jl:314\u001b[24m\u001b[39m\u001b[90m [inlined]\u001b[39m\n",
      " [11] \u001b[0m\u001b[1mbackend_display\u001b[22m\u001b[0m\u001b[1m(\u001b[22m\u001b[90ms\u001b[39m::\u001b[0mMakie.Scene; \u001b[90mkw\u001b[39m::\u001b[0mBase.Pairs\u001b[90m{Symbol, Union{}, Tuple{}, NamedTuple{(), Tuple{}}}\u001b[39m\u001b[0m\u001b[1m)\u001b[22m\n",
      "\u001b[90m    @ \u001b[39m\u001b[35mMakie\u001b[39m \u001b[90m~/.julia/packages/Makie/Ppzqh/src/\u001b[39m\u001b[90m\u001b[4mdisplay.jl:51\u001b[24m\u001b[39m\n",
      " [12] \u001b[0m\u001b[1mbackend_display\u001b[22m\u001b[0m\u001b[1m(\u001b[22m\u001b[90ms\u001b[39m::\u001b[0mMakie.Scene\u001b[0m\u001b[1m)\u001b[22m\n",
      "\u001b[90m    @ \u001b[39m\u001b[35mMakie\u001b[39m \u001b[90m~/.julia/packages/Makie/Ppzqh/src/\u001b[39m\u001b[90m\u001b[4mdisplay.jl:49\u001b[24m\u001b[39m\n",
      " [13] top-level scope\n",
      "\u001b[90m    @ \u001b[39m\u001b[90m~/.julia/packages/CairoMakie/keP4X/src/\u001b[39m\u001b[90m\u001b[4mprecompiles.jl:4\u001b[24m\u001b[39m\n",
      " [14] \u001b[0m\u001b[1minclude\u001b[22m\u001b[0m\u001b[1m(\u001b[22m\u001b[90mmod\u001b[39m::\u001b[0mModule, \u001b[90m_path\u001b[39m::\u001b[0mString\u001b[0m\u001b[1m)\u001b[22m\n",
      "\u001b[90m    @ \u001b[39m\u001b[90mBase\u001b[39m \u001b[90m./\u001b[39m\u001b[90m\u001b[4mBase.jl:419\u001b[24m\u001b[39m\n",
      " [15] \u001b[0m\u001b[1minclude\u001b[22m\n",
      "\u001b[90m    @ \u001b[39m\u001b[90m~/.julia/packages/CairoMakie/keP4X/src/\u001b[39m\u001b[90m\u001b[4mCairoMakie.jl:1\u001b[24m\u001b[39m\u001b[90m [inlined]\u001b[39m\n",
      " [16] \u001b[0m\u001b[1mmacro expansion\u001b[22m\n",
      "\u001b[90m    @ \u001b[39m\u001b[90m~/.julia/packages/CairoMakie/keP4X/src/\u001b[39m\u001b[90m\u001b[4mprecompiles.jl:15\u001b[24m\u001b[39m\u001b[90m [inlined]\u001b[39m\n",
      " [17] \u001b[0m\u001b[1mmacro expansion\u001b[22m\n",
      "\u001b[90m    @ \u001b[39m\u001b[90m~/.julia/packages/Makie/Ppzqh/src/\u001b[39m\u001b[90m\u001b[4mprecompiles.jl:96\u001b[24m\u001b[39m\u001b[90m [inlined]\u001b[39m\n",
      " [18] top-level scope\n",
      "\u001b[90m    @ \u001b[39m\u001b[90m~/.julia/packages/CairoMakie/keP4X/src/\u001b[39m\u001b[90m\u001b[4mprecompiles.jl:10\u001b[24m\u001b[39m\n",
      " [19] \u001b[0m\u001b[1minclude\u001b[22m\u001b[0m\u001b[1m(\u001b[22m\u001b[90mmod\u001b[39m::\u001b[0mModule, \u001b[90m_path\u001b[39m::\u001b[0mString\u001b[0m\u001b[1m)\u001b[22m\n",
      "\u001b[90m    @ \u001b[39m\u001b[90mBase\u001b[39m \u001b[90m./\u001b[39m\u001b[90m\u001b[4mBase.jl:419\u001b[24m\u001b[39m\n",
      " [20] \u001b[0m\u001b[1minclude\u001b[22m\u001b[0m\u001b[1m(\u001b[22m\u001b[90mx\u001b[39m::\u001b[0mString\u001b[0m\u001b[1m)\u001b[22m\n",
      "\u001b[90m    @ \u001b[39m\u001b[36mCairoMakie\u001b[39m \u001b[90m~/.julia/packages/CairoMakie/keP4X/src/\u001b[39m\u001b[90m\u001b[4mCairoMakie.jl:1\u001b[24m\u001b[39m\n",
      " [21] top-level scope\n",
      "\u001b[90m    @ \u001b[39m\u001b[90m~/.julia/packages/CairoMakie/keP4X/src/\u001b[39m\u001b[90m\u001b[4mCairoMakie.jl:69\u001b[24m\u001b[39m\n",
      " [22] \u001b[0m\u001b[1minclude\u001b[22m\n",
      "\u001b[90m    @ \u001b[39m\u001b[90m./\u001b[39m\u001b[90m\u001b[4mBase.jl:419\u001b[24m\u001b[39m\u001b[90m [inlined]\u001b[39m\n",
      " [23] \u001b[0m\u001b[1minclude_package_for_output\u001b[22m\u001b[0m\u001b[1m(\u001b[22m\u001b[90mpkg\u001b[39m::\u001b[0mBase.PkgId, \u001b[90minput\u001b[39m::\u001b[0mString, \u001b[90mdepot_path\u001b[39m::\u001b[0mVector\u001b[90m{String}\u001b[39m, \u001b[90mdl_load_path\u001b[39m::\u001b[0mVector\u001b[90m{String}\u001b[39m, \u001b[90mload_path\u001b[39m::\u001b[0mVector\u001b[90m{String}\u001b[39m, \u001b[90mconcrete_deps\u001b[39m::"
     ]
    },
    {
     "name": "stderr",
     "output_type": "stream",
     "text": [
      "\u001b[0mVector\u001b[90m{Pair{Base.PkgId, UInt64}}\u001b[39m, \u001b[90msource\u001b[39m::\u001b[0mNothing\u001b[0m\u001b[1m)\u001b[22m\n",
      "\u001b[90m    @ \u001b[39m\u001b[90mBase\u001b[39m \u001b[90m./\u001b[39m\u001b[90m\u001b[4mloading.jl:1554\u001b[24m\u001b[39m\n",
      " [24] top-level scope\n",
      "\u001b[90m    @ \u001b[39m\u001b[90m\u001b[4mstdin:1\u001b[24m\u001b[39m\n",
      "in expression starting at /home/notebook/.julia/packages/Makie/Ppzqh/precompile/shared-precompile.jl:23\n",
      "in expression starting at /home/notebook/.julia/packages/CairoMakie/keP4X/src/precompiles.jl:9\n",
      "in expression starting at /home/notebook/.julia/packages/CairoMakie/keP4X/src/CairoMakie.jl:1\n",
      "in expression starting at stdin:1\n"
     ]
    }
   ],
   "source": [
    "import IJulia\n",
    "\n",
    "# The julia kernel has built in support for Revise.jl, so this is the \n",
    "# recommended approach for long-running sessions:\n",
    "# https://github.com/JuliaLang/IJulia.jl/blob/9b10fa9b879574bbf720f5285029e07758e50a5e/src/kernel.jl#L46-L51\n",
    "\n",
    "# Users should enable revise within .julia/config/startup_ijulia.jl:\n",
    "# https://timholy.github.io/Revise.jl/stable/config/#Using-Revise-automatically-within-Jupyter/IJulia-1\n",
    "\n",
    "# clear console history\n",
    "IJulia.clear_history()\n",
    "\n",
    "fig_width = 7\n",
    "fig_height = 5\n",
    "fig_format = :retina\n",
    "fig_dpi = 96\n",
    "\n",
    "# no retina format type, use svg for high quality type/marks\n",
    "if fig_format == :retina\n",
    "  fig_format = :svg\n",
    "elseif fig_format == :pdf\n",
    "  fig_dpi = 96\n",
    "  # Enable PDF support for IJulia\n",
    "  IJulia.register_mime(MIME(\"application/pdf\"))\n",
    "end\n",
    "\n",
    "# convert inches to pixels\n",
    "fig_width = fig_width * fig_dpi\n",
    "fig_height = fig_height * fig_dpi\n",
    "\n",
    "# Intialize Plots w/ default fig width/height\n",
    "try\n",
    "  import Plots\n",
    "\n",
    "  # Plots.jl doesn't support PDF output for versions < 1.28.1\n",
    "  # so use png (if the DPI remains the default of 300 then set to 96)\n",
    "  if (Plots._current_plots_version < v\"1.28.1\") & (fig_format == :pdf)\n",
    "    Plots.gr(size=(fig_width, fig_height), fmt = :png, dpi = fig_dpi)\n",
    "  else\n",
    "    Plots.gr(size=(fig_width, fig_height), fmt = fig_format, dpi = fig_dpi)\n",
    "  end\n",
    "catch e\n",
    "  # @warn \"Plots init\" exception=(e, catch_backtrace())\n",
    "end\n",
    "\n",
    "# Initialize CairoMakie with default fig width/height\n",
    "try\n",
    "  import CairoMakie\n",
    "  \n",
    "  CairoMakie.activate!(type = string(fig_format))\n",
    "  CairoMakie.update_theme!(resolution=(fig_width, fig_height))\n",
    "catch e\n",
    "    # @warn \"CairoMakie init\" exception=(e, catch_backtrace())\n",
    "end\n",
    "  \n",
    "# Set run_path if specified\n",
    "try\n",
    "  run_path = raw\"\"\n",
    "  if !isempty(run_path)\n",
    "    cd(run_path)\n",
    "  end\n",
    "catch e\n",
    "  @warn \"Run path init:\" exception=(e, catch_backtrace())\n",
    "end\n",
    "\n",
    "\n",
    "# emulate old Pkg.installed beahvior, see\n",
    "# https://discourse.julialang.org/t/how-to-use-pkg-dependencies-instead-of-pkg-installed/36416/9\n",
    "import Pkg\n",
    "function isinstalled(pkg::String)\n",
    "  any(x -> x.name == pkg && x.is_direct_dep, values(Pkg.dependencies()))\n",
    "end\n",
    "\n",
    "# ojs_define\n",
    "if isinstalled(\"JSON\") && isinstalled(\"DataFrames\")\n",
    "  import JSON, DataFrames\n",
    "  global function ojs_define(; kwargs...)\n",
    "    convert(x) = x\n",
    "    convert(x::DataFrames.AbstractDataFrame) = Tables.rows(x)\n",
    "    content = Dict(\"contents\" => [Dict(\"name\" => k, \"value\" => convert(v)) for (k, v) in kwargs])\n",
    "    tag = \"<script type='ojs-define'>$(JSON.json(content))</script>\"\n",
    "    IJulia.display(MIME(\"text/html\"), tag)\n",
    "  end\n",
    "elseif isinstalled(\"JSON\")\n",
    "  import JSON\n",
    "  global function ojs_define(; kwargs...)\n",
    "    content = Dict(\"contents\" => [Dict(\"name\" => k, \"value\" => v) for (k, v) in kwargs])\n",
    "    tag = \"<script type='ojs-define'>$(JSON.json(content))</script>\"\n",
    "    IJulia.display(MIME(\"text/html\"), tag)\n",
    "  end\n",
    "else\n",
    "  global function ojs_define(; kwargs...)\n",
    "    @warn \"JSON package not available. Please install the JSON.jl package to use ojs_define.\"\n",
    "  end\n",
    "end\n",
    "\n",
    "\n",
    "# don't return kernel dependencies (b/c Revise should take care of dependencies)\n",
    "nothing\n"
   ]
  },
  {
   "cell_type": "code",
   "execution_count": 2,
   "id": "8ba1da23",
   "metadata": {},
   "outputs": [],
   "source": [
    "#| code-fold: true\n",
    "#| code-summary: \"Solução\"\n",
    "a = [1, 6, 7]\n",
    "b = [6, 3, 4]\n",
    "c = [4, 2, 5];"
   ]
  },
  {
   "cell_type": "code",
   "execution_count": 3,
   "id": "5fc9c8cc",
   "metadata": {},
   "outputs": [],
   "source": [
    "#| code-fold: true\n",
    "#| code-summary: \"Solução\"\n",
    "using LinearAlgebra\n",
    "norm(a)\n",
    "norm(b)\n",
    "norm(c);"
   ]
  },
  {
   "cell_type": "code",
   "execution_count": 4,
   "id": "4a1e5815",
   "metadata": {},
   "outputs": [],
   "source": [
    "#| code-fold: true\n",
    "#| code-summary: \"Solução\"\n",
    "using IterTools\n",
    "for i in subsets([a, b, c], 2)\n",
    "    x, y = i[1], i[2]\n",
    "    dot(x, y)\n",
    "end\n",
    "\n",
    "cross(a, b)\n",
    "×(a, c)\n",
    "b×c;"
   ]
  },
  {
   "cell_type": "code",
   "execution_count": 5,
   "id": "25c513fc",
   "metadata": {},
   "outputs": [],
   "source": [
    "#| code-fold: true\n",
    "#| code-summary: \"Solução\"\n",
    "θ(x,y) = acos( x⋅y/(norm(x)*norm(y)) )\n",
    "θ(a, b)\n",
    "θ(a, c)\n",
    "θ(b, c);"
   ]
  },
  {
   "cell_type": "code",
   "execution_count": 6,
   "id": "6fe49cf0",
   "metadata": {},
   "outputs": [],
   "source": [
    "#| code-fold: true\n",
    "#| code-summary: \"Solução\"\n",
    "𝐀 = [a b c]\n",
    "det(𝐀);"
   ]
  }
 ],
 "metadata": {
  "kernelspec": {
   "display_name": "Julia 1.8.0",
   "language": "julia",
   "name": "julia-1.8"
  },
  "language_info": {
   "file_extension": ".jl",
   "mimetype": "application/julia",
   "name": "julia",
   "version": "1.8.0"
  }
 },
 "nbformat": 4,
 "nbformat_minor": 5
}